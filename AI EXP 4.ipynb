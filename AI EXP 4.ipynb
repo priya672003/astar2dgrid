{
 "cells": [
  {
   "cell_type": "code",
   "execution_count": 9,
   "id": "a05f8d1f",
   "metadata": {},
   "outputs": [],
   "source": [
    "class Problem(object):\n",
    "    \"\"\"The abstract class for a formal problem. A new domain subclasses this,\n",
    "    overriding `actions` and `results`, and perhaps other methods.\n",
    "    The default heuristic is 0 and the default action cost is 1 for all states.\n",
    "    When yiou create an instance of a subclass, specify `initial`, and `goal` states \n",
    "    (or give an `is_goal` method) and perhaps other keyword args for the subclass.\"\"\"\n",
    "\n",
    "    def __init__(self, initial=None, goal=None, **kwds): \n",
    "        self.__dict__.update(initial=initial, goal=goal, **kwds) \n",
    "        \n",
    "    def actions(self, state):        \n",
    "        raise NotImplementedError\n",
    "    def result(self, state, action): \n",
    "        raise NotImplementedError\n",
    "    def is_goal(self, state):        \n",
    "        return state == self.goal\n",
    "    def action_cost(self, s, a, s1): \n",
    "        return 1\n",
    "    \n",
    "    def __str__(self):\n",
    "        return '{0}({1}, {2})'.format(\n",
    "            type(self).__name__, self.initial, self.goal)"
   ]
  },
  {
   "cell_type": "code",
   "execution_count": 10,
   "id": "186410a0",
   "metadata": {},
   "outputs": [],
   "source": [
    "class Node:\n",
    "    \"A Node in a search tree.\"\n",
    "    def __init__(self, state, parent=None, action=None, path_cost=0):\n",
    "        self.__dict__.update(state=state, parent=parent, action=action, path_cost=path_cost)\n",
    "\n",
    "    def __str__(self): \n",
    "        return '<{0}>'.format(self.state)\n",
    "    def __len__(self): \n",
    "        return 0 if self.parent is None else (1 + len(self.parent))\n",
    "    def __lt__(self, other): \n",
    "        return self.path_cost < other.path_cost"
   ]
  },
  {
   "cell_type": "code",
   "execution_count": 11,
   "id": "97ee71d1",
   "metadata": {},
   "outputs": [],
   "source": [
    "failure = Node('failure', path_cost=math.inf) # Indicates an algorithm couldn't find a solution.\n",
    "cutoff  = Node('cutoff',  path_cost=math.inf)"
   ]
  },
  {
   "cell_type": "code",
   "execution_count": 12,
   "id": "83a12e8f",
   "metadata": {},
   "outputs": [],
   "source": [
    "def expand(problem, node):\n",
    "    \"Expand a node, generating the children nodes.\"\n",
    "    s = node.state\n",
    "    for action in problem.actions(s):\n",
    "        s1 = problem.result(s, action)\n",
    "        cost = node.path_cost + problem.action_cost(s, action, s1)\n",
    "        yield Node(s1, node, action, cost)\n",
    "        \n",
    "\n",
    "def path_actions(node):\n",
    "    \"The sequence of actions to get to this node.\"\n",
    "    if node.parent is None:\n",
    "        return []  \n",
    "    return path_actions(node.parent) + [node.action]\n",
    "\n",
    "\n",
    "def path_states(node):\n",
    "    \"The sequence of states to get to this node.\"\n",
    "    if node in (cutoff, failure, None): \n",
    "        return []\n",
    "    return path_states(node.parent) + [node.state]"
   ]
  },
  {
   "cell_type": "code",
   "execution_count": 13,
   "id": "33ecb96b",
   "metadata": {},
   "outputs": [],
   "source": [
    "class PriorityQueue:\n",
    "    \"\"\"A queue in which the item with minimum f(item) is always popped first.\"\"\"\n",
    "\n",
    "    def __init__(self, items=(), key=lambda x: x): \n",
    "        self.key = key\n",
    "        self.items = [] # a heap of (score, item) pairs\n",
    "        for item in items:\n",
    "            self.add(item)\n",
    "         \n",
    "    def add(self, item):\n",
    "        \"\"\"Add item to the queuez.\"\"\"\n",
    "        pair = (self.key(item), item)\n",
    "        heapq.heappush(self.items, pair)\n",
    "\n",
    "    def pop(self):\n",
    "        \"\"\"Pop and return the item with min f(item) value.\"\"\"\n",
    "        return heapq.heappop(self.items)[1]\n",
    "    \n",
    "    def top(self): return self.items[0][1]\n",
    "\n",
    "    def __len__(self): return len(self.items)"
   ]
  },
  {
   "cell_type": "code",
   "execution_count": 14,
   "id": "1c78d2e3",
   "metadata": {},
   "outputs": [],
   "source": [
    "def best_first_search(problem, f):\n",
    "    \"Search nodes with minimum f(node) value first.\"\n",
    "    node = Node(problem.initial)\n",
    "    frontier = PriorityQueue([node], key=f)\n",
    "    reached = {problem.initial: node}\n",
    "    while frontier:\n",
    "        node = frontier.pop()\n",
    "        if problem.is_goal(node.state):\n",
    "            return node\n",
    "        for child in expand(problem, node):\n",
    "            s = child.state\n",
    "            if s not in reached or child.path_cost < reached[s].path_cost:\n",
    "                reached[s] = child\n",
    "                frontier.add(child)\n",
    "    return failure\n",
    "\n",
    "def g(n): \n",
    "    return n.path_cost"
   ]
  },
  {
   "cell_type": "code",
   "execution_count": 17,
   "id": "36d128ed",
   "metadata": {},
   "outputs": [],
   "source": [
    "class GridProblem(Problem):\n",
    "    \"\"\"Finding a path on a 2D grid with obstacles. Obstacles are (x, y) cells.\"\"\"\n",
    "\n",
    "    def __init__(self, initial=(15, 30), goal=(130, 30), obstacles=(), **kwds):\n",
    "        Problem.__init__(self, initial=initial, goal=goal, \n",
    "                         obstacles=set(obstacles) - {initial, goal}, **kwds)\n",
    "\n",
    "    directions = [(-1, -1), (0, -1), (1, -1),\n",
    "                  (-1, 0),           (1,  0),\n",
    "                  (-1, +1), (0, +1), (1, +1)]\n",
    "    \n",
    "    def action_cost(self, s, action, s1): \n",
    "        return straight_line_distance(s, s1)\n",
    "    \n",
    "    def h(self, node): \n",
    "        return straight_line_distance(node.state, self.goal)\n",
    "                  \n",
    "    def result(self, state, action): \n",
    "        \"Both states and actions are represented by (x, y) pairs.\"\n",
    "        return action if action not in self.obstacles else state\n",
    "    \n",
    "    def actions(self, state):\n",
    "        \"\"\"You can move one cell in any of `directions` to a non-obstacle cell.\"\"\"\n",
    "        \n",
    "        x , y  = state \n",
    "        \n",
    "        return {(x + dx , y + dy ) for (dx ,dy) in self.directions} - self.obstacles "
   ]
  },
  {
   "cell_type": "code",
   "execution_count": 18,
   "id": "4a051d3a",
   "metadata": {},
   "outputs": [],
   "source": [
    "def straight_line_distance(A, B):\n",
    "    \"Straight-line distance between two points.\"\n",
    "    \n",
    "    return sum(abs(a-b) **2 for (a,b) in zip(A,B)) ** 0.5"
   ]
  },
  {
   "cell_type": "code",
   "execution_count": 19,
   "id": "ac734277",
   "metadata": {},
   "outputs": [],
   "source": [
    "def g(n): \n",
    "    return n.path_cost"
   ]
  },
  {
   "cell_type": "code",
   "execution_count": 31,
   "id": "ac2575cc",
   "metadata": {},
   "outputs": [],
   "source": [
    "def astar_search(problem, h=None):\n",
    "    \"\"\"Search nodes with minimum f(n) = g(n) + h(n).\"\"\"\n",
    "    h = h or problem.h\n",
    "    return best_first_search(problem, f=lambda n: g(n) + h(n))"
   ]
  },
  {
   "cell_type": "code",
   "execution_count": 32,
   "id": "14887ff0",
   "metadata": {},
   "outputs": [],
   "source": [
    "obstacles = {(1 , 5), (1 ,7 ) , (1 ,8 ) , (2 ,6 ) , (2 , 7) , ( 3 ,1 ) , (3 ,4 ) , (3 ,9 ) , ( 4,2 ) , ( 5 ,1 ) , ( 5 , 3) , ( 5 ,7) }"
   ]
  },
  {
   "cell_type": "code",
   "execution_count": 42,
   "id": "6df06796",
   "metadata": {},
   "outputs": [],
   "source": [
    "grid1 = GridProblem(initial=(1,1), goal =(5,10) ,obstacles=obstacles)"
   ]
  },
  {
   "cell_type": "code",
   "execution_count": 43,
   "id": "ad8df0d6",
   "metadata": {},
   "outputs": [],
   "source": [
    "solution1 = astar_search(grid1)"
   ]
  },
  {
   "cell_type": "code",
   "execution_count": 44,
   "id": "5602ec1b",
   "metadata": {},
   "outputs": [
    {
     "data": {
      "text/plain": [
       "[(1, 1),\n",
       " (1, 2),\n",
       " (2, 3),\n",
       " (2, 4),\n",
       " (3, 5),\n",
       " (3, 6),\n",
       " (4, 7),\n",
       " (4, 8),\n",
       " (4, 9),\n",
       " (5, 10)]"
      ]
     },
     "execution_count": 44,
     "metadata": {},
     "output_type": "execute_result"
    }
   ],
   "source": [
    "path_states(solution1)"
   ]
  },
  {
   "cell_type": "code",
   "execution_count": null,
   "id": "0d966071",
   "metadata": {},
   "outputs": [],
   "source": []
  }
 ],
 "metadata": {
  "kernelspec": {
   "display_name": "Python 3 (ipykernel)",
   "language": "python",
   "name": "python3"
  },
  "language_info": {
   "codemirror_mode": {
    "name": "ipython",
    "version": 3
   },
   "file_extension": ".py",
   "mimetype": "text/x-python",
   "name": "python",
   "nbconvert_exporter": "python",
   "pygments_lexer": "ipython3",
   "version": "3.9.7"
  }
 },
 "nbformat": 4,
 "nbformat_minor": 5
}
